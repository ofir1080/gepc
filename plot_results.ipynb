{
 "cells": [
  {
   "cell_type": "markdown",
   "metadata": {},
   "source": [
    "### The purpose of this notebook is to display the original DPMM scores signals and their post-processed  (shift and Gaussian smoothing) versions."
   ]
  },
  {
   "cell_type": "code",
   "execution_count": 1,
   "metadata": {},
   "outputs": [],
   "source": [
    "import os\n",
    "import json\n",
    "import pickle\n",
    "import glob\n",
    "import numpy as np\n",
    "import matplotlib.pyplot as plt\n",
    "%matplotlib inline\n",
    "\n",
    "# from utils.scoring_utils import dpmm_calc_scores, score_dataset, avg_scores_by_trans\n",
    "from utils.scoring_utils import score_align\n",
    "\n",
    "from scipy.ndimage import gaussian_filter1d\n",
    "from sklearn.metrics import roc_auc_score"
   ]
  },
  {
   "cell_type": "markdown",
   "metadata": {},
   "source": [
    "### My override score_align"
   ]
  },
  {
   "cell_type": "code",
   "execution_count": 2,
   "metadata": {},
   "outputs": [],
   "source": [
    "def my_score_align(scores_np, gt, seg_len=12, sigma=40):\n",
    "    scores_shifted = np.zeros_like(scores_np)\n",
    "    shift = seg_len + (seg_len // 2) - 1\n",
    "    scores_shifted[shift:] = scores_np[:-shift]\n",
    "    scores_smoothed = gaussian_filter1d(scores_shifted, sigma)\n",
    "    # auc = roc_auc_score(gt, scores_smoothed)\n",
    "    try:\n",
    "        auc = roc_auc_score(gt, scores_smoothed)\n",
    "    except ValueError: # Only one class present in y_true. ROC AUC score is not defined in that case.\n",
    "        auc = 0\n",
    "    return auc, shift, sigma, scores_smoothed"
   ]
  },
  {
   "cell_type": "markdown",
   "metadata": {},
   "source": [
    "### Set Paths"
   ]
  },
  {
   "cell_type": "code",
   "execution_count": 3,
   "metadata": {},
   "outputs": [
    {
     "name": "stdout",
     "output_type": "stream",
     "text": [
      "/home/xpct84/gepc/data/pose/testing\n",
      "/home/xpct84/gepc/data/testing\n"
     ]
    }
   ],
   "source": [
    "home_dir = '/home/xpct84'\n",
    "gepc_root_dir = os.path.join(home_dir, 'gepc')\n",
    "data_dir = os.path.join(gepc_root_dir, 'data')\n",
    "pose_dir = os.path.join(data_dir, 'pose') \n",
    "pose_testing_dir = os.path.join(pose_dir, 'testing')\n",
    "print(pose_testing_dir)\n",
    "testing_dir = os.path.join(data_dir, 'testing')\n",
    "print(testing_dir)"
   ]
  },
  {
   "cell_type": "markdown",
   "metadata": {},
   "source": [
    "### Load Ground Truth, Scores, Scores Ids, Metadata \n",
    "  \n",
    "Length of Ground Truth, Scores, and Scores Ids is video length in frames.  \n",
    "Ground truth is 0 for normal and 1 for abnormal per frame.  \n",
    "Scores are DPMM (Dirichlet Process Mixture Model) scores per frame.  \n",
    "Score ids is the person id with max DPMM score (verify).  \n",
    "\n",
    "Metadata is a (scene_id, clip_id) pai."
   ]
  },
  {
   "cell_type": "code",
   "execution_count": 51,
   "metadata": {},
   "outputs": [
    {
     "name": "stdout",
     "output_type": "stream",
     "text": [
      "698 698 698\n",
      "[0 0 0 0 0 0 0 0 0 0 0 0 0 0 0 0 0 0 0 0 0 0 0 0 0 0 0 0 0 0 0 0 0 0 0 0 0\n",
      " 0 0 0 0 0 0 0 0 0 0 0 0 0 0 0 0 0 0 0 0 0 0 0 0 0 0 0 0 0 0 0 0 0 0 0 0 0\n",
      " 0 0 0 0 0 0 0 0 0 0 0 0 0 0 0 0 0 0 0 0 0 0 0 0 0 0 0 0 0 0 0 0 0 0 0 0 0\n",
      " 0 0 0 0 0 0 0 0 0 0 0 0 0 0 0 0 0 0 0 0 0 0 0 0 0 0 0 0 0 0 0 0 0 0 0 0 0\n",
      " 0 0 0 0 0 0 1 1 1 1 1 1 1 1 1 1 1 1 1 1 1 1 1 1 1 1 1 1 1 1 1 1 1 1 1 1 1\n",
      " 1 1 1 1 1 1 1 1 1 1 1 1 1 1 1 1 1 1 1 1 1 1 1 1 1 1 1 1 1 1 1 1 1 1 1 1 1\n",
      " 1 1 1 1 1 1 1 1 0 0 0 0 0 0 0 0 0 0 0 0 0 0 0 0 0 0 0 0 0 0 0 0 0 0 0 0 0\n",
      " 0 0 0 0 0 0 0 0 0 0 0 0 0 0 0 0 0 0 0 0 0 0 0 0 0 0 0 0 0 0 0 0 0 0 0 0 0\n",
      " 0 0 0 0 0 0 0 0 0 0 0 0 0 0 0 0 0 0 0 0 0 0 0 0 0 0 0 0 0 0 0 0 0 0 0 0 0\n",
      " 0 0 0 0 0 0 0 0 0 0 0 0 0 0 0 0 0 0 1 1 1 1 1 1 1 1 1 1 1 1 1 1 1 1 1 1 1\n",
      " 1 1 1 1 1 1 1 1 1 1 1 1 1 1 1 1 1 1 1 1 1 1 1 1 1 1 1 1 1 1 1 1 1 1 1 1 1\n",
      " 1 1 1 1 1 1 1 1 1 1 1 1 1 1 1 1 1 1 1 1 1 1 1 1 1 1 1 1 1 1 1 1 1 1 1 1 1\n",
      " 1 1 1 1 1 1 1 1 1 1 1 1 1 1 1 1 1 1 1 1 1 1 1 1 1 1 1 1 1 1 1 1 1 1 1 1 1\n",
      " 1 1 1 1 1 1 1 1 1 1 1 1 1 1 1 1 1 1 1 1 1 1 1 1 1 1 1 1 1 1 1 1 1 1 1 1 1\n",
      " 1 1 1 1 1 1 1 1 1 1 1 1 1 1 1 1 1 1 1 1 1 1 1 1 1 1 1 1 1 1 1 1 1 1 1 1 1\n",
      " 1 1 1 1 1 1 1 1 1 1 1 1 1 1 1 1 1 1 1 1 1 1 1 1 1 1 1 1 1 1 1 1 1 1 1 1 1\n",
      " 1 1 1 1 1 1 1 1 1 1 1 1 1 1 1 1 1 1 1 1 1 1 1 1 1 1 1 1 1 1 1 1 1 1 1 1 1\n",
      " 1 1 1 1 1 1 1 1 1 1 0 0 0 0 0 0 0 0 0 0 0 0 0 0 0 0 0 0 0 0 0 0 0 0 0 0 0\n",
      " 0 0 0 0 0 0 0 0 0 0 0 0 0 0 0 0 0 0 0 0 0 0 0 0 0 0 0 0 0 0 0 0]\n",
      "[48.01281157 48.01277851 48.01280375 48.01272164 45.22778315 45.22773564\n",
      " 45.22775509 45.22777486 45.22785163 45.22803875 45.2285614  45.22904487\n",
      " 45.78550356 45.78626753 45.78627277 45.31000195 45.78592877 45.78643747\n",
      " 45.78647051 45.78637219 45.77682351 45.22910145 45.22863577 45.2283138\n",
      " 45.22861696 45.22892821 45.22946791 45.2300023  40.18911082 40.18912875\n",
      " 47.26992324 47.51867677 48.00868866 48.01273981 48.01248308 48.01241539\n",
      " 48.01241629 48.01241763 48.01247818 48.01262556 47.98560989 48.00550844\n",
      " 40.18917976 40.18909141 40.18907956 40.18905417 40.18909529 47.352023\n",
      " 47.43873741 46.88489495 45.6497525  45.23034795 45.23024242 45.22990439\n",
      " 45.22954961 45.22877263 45.22860433 45.22837293 45.22840723 45.22838053\n",
      " 45.2284667  45.22858989 45.22865069 45.22889287 45.22954427 45.22974711\n",
      " 45.23034325 45.22928285 45.15339683 40.18907046 44.87833915 45.22638288\n",
      " 45.23042264 45.23009565 45.22988691 45.2296626  45.22950677 45.22949721\n",
      " 45.22934665 45.2295503  45.22992262 44.9999821  40.18903067 40.18903437\n",
      " 45.86312552 46.08583979 44.36667903 40.72923703 40.7330357  40.18917502\n",
      " 40.18913105 40.1892127  40.18939947 40.18992801 40.19003651 40.18959462\n",
      " 40.19024327 40.19013194 40.19055856 40.72453641 44.37279621 41.36372196\n",
      " 41.36392047 41.36443954 40.18921409 45.11391108 45.11144918 45.11123945\n",
      " 45.12631301 45.11114073 45.11112319 45.11113515 45.11113162 45.11112652\n",
      " 45.11117708 45.11115445 45.11124815 45.11112678 45.11119283 45.11111557\n",
      " 45.11117176 45.11113138 45.11113501 45.11116396 45.11112524 45.11113489\n",
      " 45.11113711 45.11113128 45.11111951 45.11110248 45.11108246 45.11109275\n",
      " 45.11108672 45.11109538 45.11110378 45.11111435 45.11110509 45.11111001\n",
      " 45.11111001 45.11111853 45.11113766 45.11120275 45.11125198 45.11127077\n",
      " 45.11125372 45.11133136 45.11135333 45.11132736 45.11126621 45.22697723\n",
      " 45.1994431  45.11121166 45.11123095 45.1111445  45.11119333 45.11130406\n",
      " 45.11253273 45.11057355 44.50311822 44.50375346 44.50439122 44.50422464\n",
      " 44.50327893 45.09089429 45.11262027 45.11202342 45.11204798 44.50250016\n",
      " 44.50286996 44.50264294 44.50236983 44.50267462 44.50336444 44.50277306\n",
      " 44.50426065 44.50387654 44.50396627 44.50375266 44.50367061 44.50364379\n",
      " 46.4320216  45.91007259 48.01287858 48.01285523 48.0126533  48.01263465\n",
      " 48.01279217 48.01277682 48.01258312 48.01274551 48.01275424 48.01274852\n",
      " 48.01247584 48.01243625 48.01239723 48.01241694 48.01238383 48.01236967\n",
      " 48.01237204 48.01254935 48.012947   45.11157926 45.11149499 46.76790174\n",
      " 45.11236451 45.11112674 45.11113985 45.11114073 45.11115055 45.11110801\n",
      " 45.11110876 45.11109983 45.11109547 45.11108793 45.11108518 45.11107686\n",
      " 45.11253981 45.11352904 45.11109575 45.11111095 45.11113084 45.11114576\n",
      " 45.1111605  45.11115484 45.11112989 45.11112736 45.11111979 45.11113521\n",
      " 45.11119094 45.11118209 45.11116449 45.23036599 45.22955194 45.22909457\n",
      " 45.22836773 45.22812255 45.22797546 45.22792545 45.22797985 45.22790736\n",
      " 45.22795002 45.22792612 45.22807373 45.22805941 45.22859614 45.22838501\n",
      " 45.11111753 45.11111342 45.11109637 45.11109025 45.11108868 45.11109618\n",
      " 45.11109772  0.          0.          0.          0.          0.\n",
      "  0.          0.          0.          0.          0.          0.\n",
      "  0.         22.73247968 11.7642975  46.18241559 41.3636531  45.20644813\n",
      " 44.50373849 44.50241113 44.50206758 44.5020639  44.50185299 44.50182848\n",
      " 44.50183069 44.5018578  44.50197096 44.50223424 44.50255404 44.5031156\n",
      " 42.21066612 41.36367414 48.01284172 48.01273988 48.01263274 48.01288306\n",
      " 48.01292238 48.01324763 47.30714152 46.61049083 45.90758981 44.50319803\n",
      " 44.50235926 44.50217384 44.50198898 44.50187206 44.50187844 44.50183662\n",
      " 44.50182998 44.50194832 44.5020898  44.50227842 44.50242964 44.5023336\n",
      " 44.50260802 41.36384964 44.65069477 41.36382662 45.2296531  45.22895482\n",
      " 45.22845153 45.22827094 45.22854673 45.08434885 44.64853    44.50251365\n",
      " 44.50204559 44.50202288 44.50195693 44.50187424 44.50187419 44.50187275\n",
      " 48.01306853 48.0132437  48.01271897 48.01226621 48.01227554 48.01224165\n",
      " 48.0122734  48.0122794  48.01231069 48.0123114  48.01230667 48.01235903\n",
      " 48.01244124 48.01256617 48.01219671 48.01221047 48.01221466 48.01221709\n",
      " 48.01219619 48.01222208 48.0122187  48.01223741 48.0123325  48.01244958\n",
      " 48.01232979 48.01227275 48.0122814  48.01231523 48.01233097 48.01228934\n",
      " 48.01230735 48.01238183 48.01248561 48.01248447 48.0122039  48.01219604\n",
      " 48.01221288 48.01223608 48.01223245 48.01222374 48.01222324 48.01221986\n",
      " 48.0122162  48.01221023 48.01220197 48.01220016 48.01220491 48.01223078\n",
      " 48.01224211 48.01229194 48.0123407  48.01234435 48.01230514 48.01231348\n",
      " 48.01228003 48.01227306 48.01227883 48.01227879 48.01228079 48.01230811\n",
      " 48.01230686 48.01227172 48.0122841  48.01225572 48.01226988 48.01223922\n",
      " 48.01224109 48.0122226  48.01221874 48.01221856 48.01223442 48.01221862\n",
      " 48.01221105 48.01221994 48.01222435 48.0122364  48.01226419 48.01226528\n",
      " 48.01225978 48.01224724 48.01224123 48.01223054 48.01223304 48.01222861\n",
      " 48.01221494 48.01224184 48.01226705 48.01228096 48.01234384 48.01236644\n",
      " 48.01244459 48.01247644 48.01235147 48.01228    48.0122495  48.0122738\n",
      " 48.0122403  48.01232254 48.01231102 48.01228754 48.01237607 48.01237835\n",
      " 48.01227258 48.01238423 48.01252235 46.84719947 45.69317144 45.22808173\n",
      " 45.22820185 45.22816186 45.22819495 45.22833536 45.22863183 45.22841811\n",
      " 45.22907811 46.34253461 45.47048404 46.34221131 45.77218956 45.78484584\n",
      " 45.78578403 45.78595384 45.78602784 48.01318383 48.012451   48.01253412\n",
      " 48.01230609 48.01227301 48.01226779 48.01227947 48.01225316 48.01239095\n",
      " 48.01223368 48.01222685 48.01229745 48.0122737  48.01228099 48.01239601\n",
      " 47.38706706 47.45613325 47.44074548 45.76015523 45.22901485 45.2286811\n",
      " 45.22845344 45.22903225 45.2289129  48.01380366 48.01230746 48.01224606\n",
      " 48.01237214 48.01244178 48.01260043 48.01268539 48.01276487 47.98002874\n",
      " 47.45624014 46.89941652 45.11119409 45.22882463 45.22808997 45.2278673\n",
      " 45.22780014 45.22780063 45.22780792 45.22784857 45.22789879 45.22786969\n",
      " 45.22813076 45.22827395 45.22821005 45.22832281 45.22794653 45.22790779\n",
      " 45.22785875 45.22786478 45.22788446 45.2278319  45.22791916 45.22786556\n",
      " 45.22784069 45.22786081 45.22792592 47.43309246 48.01294504 47.11074865\n",
      " 45.22786063 45.2279332  45.22790635 45.22799046 45.22799995 45.22807544\n",
      " 45.22803866 45.22806098 45.22909533 45.22808474 45.22811693 45.22794275\n",
      " 45.22834231 45.2284601  45.22972231 45.22779892 45.22780415 45.2278092\n",
      " 45.22779911 45.22783    45.22784819 45.22786853 45.22787636 45.22786766\n",
      " 45.22783418 45.22782584 45.22780789 45.2278186  45.22784923 45.22780178\n",
      " 45.22784295 45.22779716 45.22779649 45.2277634  45.2277643  45.22775713\n",
      " 45.22776599 45.22775893 45.22782381 45.22781683 45.22792721 45.22800064\n",
      " 45.22801707 45.22799844 45.22800408 45.22794931 45.22785289 45.227799\n",
      " 45.2277431  45.22772723 45.22773561 45.22772077 45.22770987 45.2277285\n",
      " 45.22774312 45.22777894 45.22780464 45.22783959 45.22782929 45.2278591\n",
      " 45.22794977 45.22795082 45.22799367 45.22809089 45.22825113 45.22816215\n",
      " 45.22808747 45.22798918 45.22791414 45.22787038 45.22784031 45.22783617\n",
      " 45.22781053 45.227791   45.22779177 45.22776031 45.22777535 45.22782544\n",
      " 45.2278704  45.22802218 45.22838712 45.11116162 45.11121781 45.1113356\n",
      " 44.28973256 44.25894889 38.14080836 45.11197194 45.11126362 45.11119939\n",
      " 45.11116188 45.11115397 45.11116193 45.11118555 45.11118663 45.1112065\n",
      " 45.11119863 45.11123181 45.11122151 45.11122935 45.11125969 45.11123781\n",
      " 45.1112455  45.11326637 45.11133909 45.11126733 45.11127799 45.11131054\n",
      " 45.11131282 45.11133141 45.11131521 45.11130586 45.11130879 45.11130812\n",
      " 45.11132066 45.11138804 45.11139035 45.11133537 45.11132165 45.11129161\n",
      " 45.11122929 45.11124592 45.11123088 45.11123811 45.11122966 45.11122174\n",
      " 45.1112108  45.1112074  45.11127526 45.1112241  45.11119135 45.11136455\n",
      " 45.11166125 45.69051158 45.11192848 45.69197953 14.38871404 45.69258755\n",
      " 46.25756452 43.73071633 46.85255662 47.43295299 46.32925202 47.4301405\n",
      " 47.42260043 47.31550928 37.76650186 48.01256084 48.01236324 48.01226969\n",
      " 48.01232159 48.01244466  0.         41.36395229 41.36379332 41.36381759\n",
      " 41.3637719   0.          0.          0.          0.          0.\n",
      "  0.          0.          0.          0.          0.          0.\n",
      "  0.          0.          0.          0.          0.          0.\n",
      "  0.          0.          0.          0.          0.          0.\n",
      "  0.          0.          0.          0.          0.          0.\n",
      "  0.          0.        ]\n",
      "[2 2 2 2 1 1 1 1 1 1 1 1 1 1 1 1 1 1 1 1 1 1 1 1 1 1 1 1 2 2 1 1 1 1 1 1 1\n",
      " 1 1 1 1 1 2 2 2 2 2 1 1 1 1 1 1 1 1 1 1 1 1 1 1 1 1 1 1 1 1 1 1 2 1 1 1 1\n",
      " 1 1 1 1 1 1 1 1 2 2 1 1 1 1 1 2 2 2 1 1 1 1 2 2 2 1 1 4 4 4 2 4 4 4 1 4 4\n",
      " 4 4 4 4 4 4 4 4 4 4 4 4 4 4 4 4 4 4 4 4 4 4 4 4 4 4 4 4 4 4 4 4 4 4 4 4 4\n",
      " 4 1 1 4 4 4 4 4 4 4 6 6 6 6 6 4 4 4 4 6 6 6 6 6 6 6 6 6 6 6 6 6 1 1 1 1 1\n",
      " 1 1 1 1 1 1 1 1 1 1 1 1 1 1 1 1 8 8 1 8 4 4 4 4 4 4 4 4 4 4 4 8 8 4 4 4 4\n",
      " 4 4 4 4 4 4 4 4 4 1 1 1 1 1 1 1 1 1 1 1 1 1 1 1 4 4 4 4 4 4 4 1 1 1 1 1 1\n",
      " 1 1 1 1 1 1 1 1 1 2 1 1 1 1 1 1 1 1 1 1 1 1 1 1 3 1 1 1 1 1 1 1 1 1 1 1 1\n",
      " 1 1 1 1 1 1 1 1 1 1 1 2 1 2 1 1 1 1 1 1 1 1 1 1 1 1 1 1 3 2 2 2 2 2 2 3 3\n",
      " 3 3 3 3 3 2 2 2 2 2 2 2 2 3 3 3 3 2 2 2 2 2 2 2 2 3 3 3 3 3 3 3 3 3 3 3 3\n",
      " 3 3 3 3 3 3 3 3 3 3 3 3 3 3 3 3 3 3 3 3 3 3 3 3 3 3 3 3 3 3 3 3 3 3 3 3 3\n",
      " 3 3 3 3 3 3 3 3 3 3 3 3 3 3 3 3 3 3 3 2 2 2 2 2 3 3 3 3 3 3 3 3 2 3 3 3 3\n",
      " 3 3 3 2 2 3 3 3 3 2 2 2 3 3 3 3 3 3 3 3 3 2 3 3 3 2 2 5 5 5 5 5 5 5 5 5 5\n",
      " 5 2 5 5 5 5 5 5 5 5 5 5 5 5 5 5 5 5 5 5 5 5 5 5 5 5 3 3 3 5 5 5 5 5 5 5 5\n",
      " 2 2 2 5 2 2 2 5 5 5 5 5 5 5 5 5 5 5 5 5 5 5 5 5 5 5 5 5 5 5 5 5 5 5 5 5 5\n",
      " 5 5 5 5 5 5 5 5 5 5 5 5 5 5 5 5 5 5 5 5 5 5 5 5 5 5 5 5 5 5 5 5 5 5 5 5 2\n",
      " 2 2 5 5 5 5 5 5 5 5 5 5 5 5 5 5 5 5 5 5 5 2 2 5 5 5 5 5 5 5 5 5 5 5 5 5 5\n",
      " 5 2 2 2 2 2 2 2 2 2 2 2 2 2 2 2 2 2 2 2 2 2 2 2 2 2 2 2 2 2 2 2 2 1 2 2 2\n",
      " 2 1 1 1 1 1 1 1 1 1 1 1 1 1 1 1 1 1 1 1 1 1 1 1 1 1 1 1 1 1 1 1]\n"
     ]
    }
   ],
   "source": [
    "data = np.load('mat.npz')\n",
    "gt_np = data['gt_np']\n",
    "scores_np = data['scores_np']\n",
    "score_ids_np = data['score_ids_np']\n",
    "print(len(gt_np), len(scores_np), len(score_ids_np))\n",
    "print(gt_np)\n",
    "print(scores_np)\n",
    "print(score_ids_np)"
   ]
  },
  {
   "cell_type": "code",
   "execution_count": 42,
   "metadata": {},
   "outputs": [
    {
     "name": "stdout",
     "output_type": "stream",
     "text": [
      "[[1, 14], [1, 15]]\n"
     ]
    }
   ],
   "source": [
    "# dump(metadata_arr, 'metadata.pkl')\n",
    "# metadata_arr = pickle.load('metadata.pkl', 'r')\n",
    "# metadata_arr\n",
    "\n",
    "with open('metadata.pkl', 'rb') as f:\n",
    "    metadata_arr = pickle.load(f)\n",
    "print(metadata_arr)"
   ]
  },
  {
   "cell_type": "markdown",
   "metadata": {},
   "source": [
    "### Original AUC"
   ]
  },
  {
   "cell_type": "code",
   "execution_count": 43,
   "metadata": {},
   "outputs": [
    {
     "name": "stdout",
     "output_type": "stream",
     "text": [
      "0.8739060340856748 17 40\n"
     ]
    }
   ],
   "source": [
    "auc, shift, sigma = score_align(scores_np, gt_np)\n",
    "# auc, shift, sigma = score_align(scores_np[:265], gt_np[:265])\n",
    "# auc, shift, sigma = score_align(scores_np[265:], gt_np[265:])\n",
    "print(auc, shift, sigma)"
   ]
  },
  {
   "cell_type": "markdown",
   "metadata": {},
   "source": [
    "### AUC without smoothing"
   ]
  },
  {
   "cell_type": "code",
   "execution_count": 26,
   "metadata": {},
   "outputs": [
    {
     "name": "stdout",
     "output_type": "stream",
     "text": [
      "0.5953077137287663\n"
     ]
    }
   ],
   "source": [
    "auc = roc_auc_score(gt_np, scores_np)\n",
    "print(auc)"
   ]
  },
  {
   "cell_type": "markdown",
   "metadata": {},
   "source": [
    "### AUC after chopping first 50 frames from signal (score an gt)"
   ]
  },
  {
   "cell_type": "code",
   "execution_count": 8,
   "metadata": {},
   "outputs": [],
   "source": [
    "def runs_of_ones_array(bits):\n",
    "  # make sure all runs of ones are well-bounded\n",
    "  bounded = np.hstack(([0], bits, [0]))\n",
    "  # get 1 at run starts and -1 at run ends\n",
    "  difs = np.diff(bounded)\n",
    "  run_starts, = np.where(difs > 0)\n",
    "  run_ends, = np.where(difs < 0)\n",
    "  return run_ends - run_starts, run_starts, run_ends"
   ]
  },
  {
   "cell_type": "code",
   "execution_count": 44,
   "metadata": {},
   "outputs": [
    {
     "data": {
      "text/plain": [
       "[('01_0014.npy', 265), ('01_0015.npy', 433)]"
      ]
     },
     "execution_count": 44,
     "metadata": {},
     "output_type": "execute_result"
    }
   ],
   "source": [
    "# gt_np\n",
    "# scores_np\n",
    "# # score_ids_np # not relevant\n",
    "# metadata_arr\n",
    "\n",
    "filename_num_frames = []\n",
    "num_frames = np.zeros(len(metadata_arr))\n",
    "i = 0\n",
    "for scene_id, video_id in metadata_arr:\n",
    "    # print(scene_id, video_id)\n",
    "    # print(f'{scene_id:02}_{video_id:04}.npy')\n",
    "    \n",
    "    filename = f'{scene_id:02}_{video_id:04}.npy'\n",
    "    full_fname = os.path.join(testing_dir, 'test_frame_mask_orig', filename)\n",
    "    gt = np.load(full_fname)\n",
    "    _, runs_starts, run_ends = runs_of_ones_array(gt)\n",
    "    # print(filename, ', #frames =', len(gt), ', any(abnormal) =', any(gt==1), ',', runs_starts, run_ends-1)    \n",
    "        \n",
    "    num_frames[i] = len(gt)\n",
    "    filename_num_frames.append((filename, len(gt)))\n",
    "    i += 1\n",
    "    \n",
    "# num_frames   \n",
    "# filename_num_frames\n",
    "\n",
    "sorted(filename_num_frames, key=lambda x:x[1])"
   ]
  },
  {
   "cell_type": "markdown",
   "metadata": {},
   "source": [
    "### AUC as function of sigma"
   ]
  },
  {
   "cell_type": "code",
   "execution_count": 28,
   "metadata": {},
   "outputs": [
    {
     "name": "stdout",
     "output_type": "stream",
     "text": [
      "0.6905458089668616 17 1\n",
      "0.7197159565580618 17 2\n",
      "0.753411306042885 17 3\n",
      "0.78536619326093 17 4\n",
      "0.8131439710387078 17 5\n",
      "0.8437064884433305 17 6\n",
      "0.8636869952659427 17 7\n",
      "0.8731551099972152 17 8\n",
      "0.8874965190754665 17 9\n",
      "0.8964076858813702 17 10\n",
      "0.9000278473962684 17 11\n",
      "0.9030910609857978 17 12\n",
      "0.9122807017543859 17 13\n",
      "0.9218184349763298 17 14\n",
      "0.9317738791423003 17 15\n",
      "0.9428432191590087 17 16\n",
      "0.9548872180451129 17 17\n",
      "0.9637287663603453 17 18\n",
      "0.9662350320245058 17 19\n",
      "0.9681843497632971 17 20\n",
      "0.969785575048733 17 21\n",
      "0.9711779448621554 17 22\n",
      "0.9720829852408799 17 23\n",
      "0.9731272626009467 17 24\n",
      "0.9738930659983291 17 25\n",
      "0.9748677248677249 17 26\n",
      "0.9756335282651072 17 27\n",
      "0.9763993316624896 17 28\n",
      "0.977165135059872 17 29\n",
      "0.9779309384572542 17 30\n",
      "0.9787663603453077 17 31\n",
      "0.97953216374269 17 32\n",
      "0.9805068226120857 17 33\n",
      "0.9814118629908104 17 34\n",
      "0.9825953773322195 17 35\n",
      "0.9837092731829574 17 36\n",
      "0.9849624060150375 17 37\n",
      "0.9863547758284601 17 38\n",
      "0.9877471456418825 17 39\n",
      "0.9893483709273183 17 40\n",
      "0.9908799777220829 17 41\n",
      "0.9926204399888611 17 42\n",
      "0.994360902255639 17 43\n",
      "0.9959621275410749 17 44\n",
      "0.9973544973544973 17 45\n",
      "0.9986772486772487 17 46\n",
      "0.9995822890559732 17 47\n",
      "1.0 17 48\n",
      "0.9996519075466443 17 49\n",
      "0.998259537733222 17 50\n"
     ]
    }
   ],
   "source": [
    "auc_sigma_list = np.zeros(51)\n",
    "for sigma in range(1, 51):\n",
    "    auc_sigma_list[sigma], shift, sigma = score_align(scores_np, gt_np, seg_len=12, sigma=sigma)\n",
    "    print(auc_sigma_list[sigma], shift, sigma)"
   ]
  },
  {
   "cell_type": "code",
   "execution_count": 29,
   "metadata": {},
   "outputs": [
    {
     "data": {
      "image/png": "[encoded data removed]",
      "text/plain": [
       "<Figure size 432x288 with 1 Axes>"
      ]
     },
     "metadata": {
      "needs_background": "light"
     },
     "output_type": "display_data"
    }
   ],
   "source": [
    "plt.plot(range(1,51), auc_sigma_list[1:])\n",
    "plt.xlabel('$\\sigma$')\n",
    "plt.ylabel('AUC')\n",
    "plt.title('AUC as function of $\\sigma$')\n",
    "# plt.savefig('AUCvsSigma.png')\n",
    "plt.show()"
   ]
  },
  {
   "cell_type": "code",
   "execution_count": 30,
   "metadata": {},
   "outputs": [
    {
     "data": {
      "text/plain": [
       "48"
      ]
     },
     "execution_count": 30,
     "metadata": {},
     "output_type": "execute_result"
    }
   ],
   "source": [
    "np.argmax(auc_sigma_list)"
   ]
  },
  {
   "cell_type": "code",
   "execution_count": 31,
   "metadata": {},
   "outputs": [
    {
     "name": "stdout",
     "output_type": "stream",
     "text": [
      "['/home/xpct84/gepc/data/testing/test_frame_mask_orig/01_0014.npy', '/home/xpct84/gepc/data/testing/test_frame_mask_orig/01_0015.npy', '/home/xpct84/gepc/data/testing/test_frame_mask_orig/01_0016.npy', '/home/xpct84/gepc/data/testing/test_frame_mask_orig/01_0025.npy', '/home/xpct84/gepc/data/testing/test_frame_mask_orig/01_0026.npy', '/home/xpct84/gepc/data/testing/test_frame_mask_orig/01_0027.npy', '/home/xpct84/gepc/data/testing/test_frame_mask_orig/01_0028.npy', '/home/xpct84/gepc/data/testing/test_frame_mask_orig/01_0029.npy', '/home/xpct84/gepc/data/testing/test_frame_mask_orig/01_0030.npy', '/home/xpct84/gepc/data/testing/test_frame_mask_orig/01_0051.npy', '/home/xpct84/gepc/data/testing/test_frame_mask_orig/01_0052.npy', '/home/xpct84/gepc/data/testing/test_frame_mask_orig/01_0053.npy', '/home/xpct84/gepc/data/testing/test_frame_mask_orig/01_0054.npy', '/home/xpct84/gepc/data/testing/test_frame_mask_orig/01_0055.npy', '/home/xpct84/gepc/data/testing/test_frame_mask_orig/01_0056.npy', '/home/xpct84/gepc/data/testing/test_frame_mask_orig/01_0063.npy', '/home/xpct84/gepc/data/testing/test_frame_mask_orig/01_0064.npy', '/home/xpct84/gepc/data/testing/test_frame_mask_orig/01_0073.npy', '/home/xpct84/gepc/data/testing/test_frame_mask_orig/01_0076.npy', '/home/xpct84/gepc/data/testing/test_frame_mask_orig/01_0129.npy', '/home/xpct84/gepc/data/testing/test_frame_mask_orig/01_0130.npy', '/home/xpct84/gepc/data/testing/test_frame_mask_orig/01_0131.npy', '/home/xpct84/gepc/data/testing/test_frame_mask_orig/01_0132.npy', '/home/xpct84/gepc/data/testing/test_frame_mask_orig/01_0133.npy', '/home/xpct84/gepc/data/testing/test_frame_mask_orig/01_0134.npy', '/home/xpct84/gepc/data/testing/test_frame_mask_orig/01_0135.npy', '/home/xpct84/gepc/data/testing/test_frame_mask_orig/01_0136.npy', '/home/xpct84/gepc/data/testing/test_frame_mask_orig/01_0138.npy', '/home/xpct84/gepc/data/testing/test_frame_mask_orig/01_0139.npy', '/home/xpct84/gepc/data/testing/test_frame_mask_orig/01_0140.npy', '/home/xpct84/gepc/data/testing/test_frame_mask_orig/01_0141.npy', '/home/xpct84/gepc/data/testing/test_frame_mask_orig/01_0162.npy', '/home/xpct84/gepc/data/testing/test_frame_mask_orig/01_0163.npy', '/home/xpct84/gepc/data/testing/test_frame_mask_orig/01_0177.npy', '/home/xpct84/gepc/data/testing/test_frame_mask_orig/02_0128.npy', '/home/xpct84/gepc/data/testing/test_frame_mask_orig/02_0161.npy', '/home/xpct84/gepc/data/testing/test_frame_mask_orig/02_0164.npy', '/home/xpct84/gepc/data/testing/test_frame_mask_orig/03_0031.npy', '/home/xpct84/gepc/data/testing/test_frame_mask_orig/03_0032.npy', '/home/xpct84/gepc/data/testing/test_frame_mask_orig/03_0033.npy', '/home/xpct84/gepc/data/testing/test_frame_mask_orig/03_0035.npy', '/home/xpct84/gepc/data/testing/test_frame_mask_orig/03_0036.npy', '/home/xpct84/gepc/data/testing/test_frame_mask_orig/03_0039.npy', '/home/xpct84/gepc/data/testing/test_frame_mask_orig/03_0041.npy', '/home/xpct84/gepc/data/testing/test_frame_mask_orig/03_0059.npy', '/home/xpct84/gepc/data/testing/test_frame_mask_orig/03_0060.npy', '/home/xpct84/gepc/data/testing/test_frame_mask_orig/03_0061.npy', '/home/xpct84/gepc/data/testing/test_frame_mask_orig/04_0001.npy', '/home/xpct84/gepc/data/testing/test_frame_mask_orig/04_0003.npy', '/home/xpct84/gepc/data/testing/test_frame_mask_orig/04_0004.npy', '/home/xpct84/gepc/data/testing/test_frame_mask_orig/04_0010.npy', '/home/xpct84/gepc/data/testing/test_frame_mask_orig/04_0011.npy', '/home/xpct84/gepc/data/testing/test_frame_mask_orig/04_0012.npy', '/home/xpct84/gepc/data/testing/test_frame_mask_orig/04_0013.npy', '/home/xpct84/gepc/data/testing/test_frame_mask_orig/04_0046.npy', '/home/xpct84/gepc/data/testing/test_frame_mask_orig/04_0050.npy', '/home/xpct84/gepc/data/testing/test_frame_mask_orig/05_0017.npy', '/home/xpct84/gepc/data/testing/test_frame_mask_orig/05_0018.npy', '/home/xpct84/gepc/data/testing/test_frame_mask_orig/05_0019.npy', '/home/xpct84/gepc/data/testing/test_frame_mask_orig/05_0020.npy', '/home/xpct84/gepc/data/testing/test_frame_mask_orig/05_0021.npy', '/home/xpct84/gepc/data/testing/test_frame_mask_orig/05_0022.npy', '/home/xpct84/gepc/data/testing/test_frame_mask_orig/05_0023.npy', '/home/xpct84/gepc/data/testing/test_frame_mask_orig/05_0024.npy', '/home/xpct84/gepc/data/testing/test_frame_mask_orig/06_0144.npy', '/home/xpct84/gepc/data/testing/test_frame_mask_orig/06_0145.npy', '/home/xpct84/gepc/data/testing/test_frame_mask_orig/06_0147.npy', '/home/xpct84/gepc/data/testing/test_frame_mask_orig/06_0150.npy', '/home/xpct84/gepc/data/testing/test_frame_mask_orig/06_0153.npy', '/home/xpct84/gepc/data/testing/test_frame_mask_orig/06_0155.npy', '/home/xpct84/gepc/data/testing/test_frame_mask_orig/07_0005.npy', '/home/xpct84/gepc/data/testing/test_frame_mask_orig/07_0006.npy', '/home/xpct84/gepc/data/testing/test_frame_mask_orig/07_0007.npy', '/home/xpct84/gepc/data/testing/test_frame_mask_orig/07_0008.npy', '/home/xpct84/gepc/data/testing/test_frame_mask_orig/07_0009.npy', '/home/xpct84/gepc/data/testing/test_frame_mask_orig/07_0047.npy', '/home/xpct84/gepc/data/testing/test_frame_mask_orig/07_0048.npy', '/home/xpct84/gepc/data/testing/test_frame_mask_orig/07_0049.npy', '/home/xpct84/gepc/data/testing/test_frame_mask_orig/08_0044.npy', '/home/xpct84/gepc/data/testing/test_frame_mask_orig/08_0058.npy', '/home/xpct84/gepc/data/testing/test_frame_mask_orig/08_0077.npy', '/home/xpct84/gepc/data/testing/test_frame_mask_orig/08_0078.npy', '/home/xpct84/gepc/data/testing/test_frame_mask_orig/08_0079.npy', '/home/xpct84/gepc/data/testing/test_frame_mask_orig/08_0080.npy', '/home/xpct84/gepc/data/testing/test_frame_mask_orig/08_0156.npy', '/home/xpct84/gepc/data/testing/test_frame_mask_orig/08_0157.npy', '/home/xpct84/gepc/data/testing/test_frame_mask_orig/08_0158.npy', '/home/xpct84/gepc/data/testing/test_frame_mask_orig/08_0159.npy', '/home/xpct84/gepc/data/testing/test_frame_mask_orig/08_0178.npy', '/home/xpct84/gepc/data/testing/test_frame_mask_orig/08_0179.npy', '/home/xpct84/gepc/data/testing/test_frame_mask_orig/09_0057.npy', '/home/xpct84/gepc/data/testing/test_frame_mask_orig/10_0037.npy', '/home/xpct84/gepc/data/testing/test_frame_mask_orig/10_0038.npy', '/home/xpct84/gepc/data/testing/test_frame_mask_orig/10_0042.npy', '/home/xpct84/gepc/data/testing/test_frame_mask_orig/10_0074.npy', '/home/xpct84/gepc/data/testing/test_frame_mask_orig/10_0075.npy', '/home/xpct84/gepc/data/testing/test_frame_mask_orig/11_0176.npy', '/home/xpct84/gepc/data/testing/test_frame_mask_orig/12_0142.npy', '/home/xpct84/gepc/data/testing/test_frame_mask_orig/12_0143.npy', '/home/xpct84/gepc/data/testing/test_frame_mask_orig/12_0148.npy', '/home/xpct84/gepc/data/testing/test_frame_mask_orig/12_0149.npy', '/home/xpct84/gepc/data/testing/test_frame_mask_orig/12_0151.npy', '/home/xpct84/gepc/data/testing/test_frame_mask_orig/12_0152.npy', '/home/xpct84/gepc/data/testing/test_frame_mask_orig/12_0154.npy', '/home/xpct84/gepc/data/testing/test_frame_mask_orig/12_0173.npy', '/home/xpct84/gepc/data/testing/test_frame_mask_orig/12_0174.npy', '/home/xpct84/gepc/data/testing/test_frame_mask_orig/12_0175.npy']\n"
     ]
    }
   ],
   "source": [
    "full_filenames = sorted(glob.glob(os.path.join(testing_dir, 'test_frame_mask_orig', '*.npy')))\n",
    "print(full_filenames)"
   ]
  },
  {
   "cell_type": "markdown",
   "metadata": {},
   "source": [
    "### All ShanghaiTech videos contain Anomaly"
   ]
  },
  {
   "cell_type": "markdown",
   "metadata": {},
   "source": [
    "### Find length of sequences of identical values in a numpy array (run length encoding)  \n",
    "\n",
    "https://stackoverflow.com/questions/1066758/find-length-of-sequences-of-identical-values-in-a-numpy-array-run-length-encodi"
   ]
  },
  {
   "cell_type": "code",
   "execution_count": 14,
   "metadata": {},
   "outputs": [],
   "source": [
    "def runs_of_ones_array(bits):\n",
    "  # make sure all runs of ones are well-bounded\n",
    "  bounded = np.hstack(([0], bits, [0]))\n",
    "  # get 1 at run starts and -1 at run ends\n",
    "  difs = np.diff(bounded)\n",
    "  run_starts, = np.where(difs > 0)\n",
    "  run_ends, = np.where(difs < 0)\n",
    "  return run_ends - run_starts, run_starts, run_ends"
   ]
  },
  {
   "cell_type": "markdown",
   "metadata": {},
   "source": [
    "### Loop over metadata filenames, and plot all 107 scores and post-processed scores"
   ]
  },
  {
   "cell_type": "code",
   "execution_count": 32,
   "metadata": {},
   "outputs": [
    {
     "name": "stdout",
     "output_type": "stream",
     "text": [
      "01_0014.npy , #frames = 265 , any(abnormal) = True , [154] [229]\n",
      "01_0015.npy , #frames = 433 , any(abnormal) = True , [86] [373]\n",
      "01_0016.npy , #frames = 337 , any(abnormal) = True , [188] [278]\n",
      "01_0025.npy , #frames = 601 , any(abnormal) = True , [148] [202]\n",
      "01_0026.npy , #frames = 505 , any(abnormal) = True , [278] [397]\n",
      "01_0027.npy , #frames = 409 , any(abnormal) = True , [ 77 150] [148 151]\n",
      "01_0028.npy , #frames = 457 , any(abnormal) = True , [266 330] [328 330]\n",
      "01_0029.npy , #frames = 313 , any(abnormal) = True , [133] [245]\n",
      "01_0030.npy , #frames = 409 , any(abnormal) = True , [149] [348]\n",
      "01_0051.npy , #frames = 337 , any(abnormal) = True , [ 98 260] [201 325]\n",
      "01_0052.npy , #frames = 337 , any(abnormal) = True , [119 153] [128 231]\n",
      "01_0053.npy , #frames = 457 , any(abnormal) = True , [80 86] [ 84 315]\n",
      "01_0054.npy , #frames = 577 , any(abnormal) = True , [145] [437]\n",
      "01_0055.npy , #frames = 313 , any(abnormal) = True , [68] [312]\n",
      "01_0056.npy , #frames = 529 , any(abnormal) = True , [263] [397]\n",
      "01_0063.npy , #frames = 193 , any(abnormal) = True , [80] [150]\n",
      "01_0064.npy , #frames = 289 , any(abnormal) = True , [76] [288]\n",
      "01_0073.npy , #frames = 289 , any(abnormal) = True , [171] [261]\n",
      "01_0076.npy , #frames = 265 , any(abnormal) = True , [ 0 50] [ 27 250]\n",
      "01_0129.npy , #frames = 241 , any(abnormal) = True , [47] [144]\n",
      "01_0130.npy , #frames = 337 , any(abnormal) = True , [127] [220]\n",
      "01_0131.npy , #frames = 289 , any(abnormal) = True , [68] [164]\n",
      "01_0132.npy , #frames = 265 , any(abnormal) = True , [116] [202]\n",
      "01_0133.npy , #frames = 217 , any(abnormal) = True , [  0 194] [192 216]\n",
      "01_0134.npy , #frames = 433 , any(abnormal) = True , [ 90 228] [191 310]\n",
      "01_0135.npy , #frames = 409 , any(abnormal) = True , [167] [355]\n",
      "01_0136.npy , #frames = 529 , any(abnormal) = True , [133 272 324] [270 322 445]\n",
      "01_0138.npy , #frames = 313 , any(abnormal) = True , [115] [234]\n",
      "01_0139.npy , #frames = 217 , any(abnormal) = True , [85] [191]\n",
      "01_0140.npy , #frames = 241 , any(abnormal) = True , [119] [191]\n",
      "01_0141.npy , #frames = 313 , any(abnormal) = True , [78] [223]\n",
      "01_0162.npy , #frames = 193 , any(abnormal) = True , [57] [160]\n",
      "01_0163.npy , #frames = 265 , any(abnormal) = True , [101] [220]\n",
      "01_0177.npy , #frames = 317 , any(abnormal) = True , [106 190] [188 191]\n",
      "02_0128.npy , #frames = 457 , any(abnormal) = True , [ 94 255] [209 390]\n",
      "02_0161.npy , #frames = 337 , any(abnormal) = True , [68] [287]\n",
      "02_0164.npy , #frames = 361 , any(abnormal) = True , [103 203] [201 293]\n",
      "03_0031.npy , #frames = 529 , any(abnormal) = True , [327] [386]\n",
      "03_0032.npy , #frames = 409 , any(abnormal) = True , [144] [263]\n",
      "03_0033.npy , #frames = 313 , any(abnormal) = True , [ 51 162] [160 166]\n",
      "03_0035.npy , #frames = 385 , any(abnormal) = True , [ 60 225] [104 285]\n",
      "03_0036.npy , #frames = 457 , any(abnormal) = True , [191 300] [287 418]\n",
      "03_0039.npy , #frames = 481 , any(abnormal) = True , [223 242 355 419] [226 353 417 450]\n",
      "03_0041.npy , #frames = 457 , any(abnormal) = True , [85] [190]\n",
      "03_0059.npy , #frames = 433 , any(abnormal) = True , [131] [277]\n",
      "03_0060.npy , #frames = 385 , any(abnormal) = True , [187] [270]\n",
      "03_0061.npy , #frames = 241 , any(abnormal) = True , [18] [64]\n",
      "04_0001.npy , #frames = 553 , any(abnormal) = True , [  0 171 384 386] [168 176 384 499]\n",
      "04_0003.npy , #frames = 937 , any(abnormal) = True , [406 576 632 640] [569 620 638 649]\n",
      "04_0004.npy , #frames = 865 , any(abnormal) = True , [426] [555]\n",
      "04_0010.npy , #frames = 505 , any(abnormal) = True , [228] [335]\n",
      "04_0011.npy , #frames = 313 , any(abnormal) = True , [0] [312]\n",
      "04_0012.npy , #frames = 361 , any(abnormal) = True , [  0 120] [118 343]\n",
      "04_0013.npy , #frames = 361 , any(abnormal) = True , [61] [270]\n",
      "04_0046.npy , #frames = 529 , any(abnormal) = True , [161 183] [176 336]\n",
      "04_0050.npy , #frames = 337 , any(abnormal) = True , [135] [218]\n",
      "05_0017.npy , #frames = 433 , any(abnormal) = True , [283] [415]\n",
      "05_0018.npy , #frames = 481 , any(abnormal) = True , [154] [219]\n",
      "05_0019.npy , #frames = 649 , any(abnormal) = True , [244] [403]\n",
      "05_0020.npy , #frames = 649 , any(abnormal) = True , [424] [479]\n",
      "05_0021.npy , #frames = 409 , any(abnormal) = True , [149] [229]\n",
      "05_0022.npy , #frames = 337 , any(abnormal) = True , [226 252 312] [250 308 336]\n",
      "05_0023.npy , #frames = 769 , any(abnormal) = True , [171 337 426 522] [272 424 443 591]\n",
      "05_0024.npy , #frames = 433 , any(abnormal) = True , [57] [191]\n",
      "06_0144.npy , #frames = 241 , any(abnormal) = True , [ 59 152 158 163] [150 156 161 201]\n",
      "06_0145.npy , #frames = 217 , any(abnormal) = True , [ 0 32] [ 13 182]\n",
      "06_0147.npy , #frames = 265 , any(abnormal) = True , [140 185] [183 216]\n",
      "06_0150.npy , #frames = 265 , any(abnormal) = True , [33 73] [ 71 189]\n",
      "06_0153.npy , #frames = 217 , any(abnormal) = True , [112] [180]\n",
      "06_0155.npy , #frames = 265 , any(abnormal) = True , [98] [193]\n",
      "07_0005.npy , #frames = 409 , any(abnormal) = True , [135 150] [147 202]\n",
      "07_0006.npy , #frames = 385 , any(abnormal) = True , [159] [261]\n",
      "07_0007.npy , #frames = 481 , any(abnormal) = True , [129 182 323] [180 185 359]\n",
      "07_0008.npy , #frames = 457 , any(abnormal) = True , [177 186 312] [184 310 364]\n",
      "07_0009.npy , #frames = 313 , any(abnormal) = True , [118] [199]\n",
      "07_0047.npy , #frames = 601 , any(abnormal) = True , [171 239] [237 375]\n",
      "07_0048.npy , #frames = 241 , any(abnormal) = True , [189] [240]\n",
      "07_0049.npy , #frames = 481 , any(abnormal) = True , [237] [336]\n",
      "08_0044.npy , #frames = 313 , any(abnormal) = True , [132 273 290 293] [264 276 290 306]\n",
      "08_0058.npy , #frames = 337 , any(abnormal) = True , [  0  69 174] [ 51 170 250]\n",
      "08_0077.npy , #frames = 457 , any(abnormal) = True , [ 34  79 362 384 401 403 421] [ 71 327 365 390 401 414 429]\n",
      "08_0078.npy , #frames = 217 , any(abnormal) = True , [  0  14  26  43  55 119] [  9  23  39  50 108 173]\n",
      "08_0079.npy , #frames = 241 , any(abnormal) = True , [63 72 97] [ 65  95 164]\n",
      "08_0080.npy , #frames = 289 , any(abnormal) = True , [ 9 97] [ 73 205]\n",
      "08_0156.npy , #frames = 337 , any(abnormal) = True , [104] [193]\n",
      "08_0157.npy , #frames = 313 , any(abnormal) = True , [138 273] [268 282]\n",
      "08_0158.npy , #frames = 337 , any(abnormal) = True , [92] [255]\n",
      "08_0159.npy , #frames = 265 , any(abnormal) = True , [100] [230]\n",
      "08_0178.npy , #frames = 265 , any(abnormal) = True , [46] [177]\n",
      "08_0179.npy , #frames = 337 , any(abnormal) = True , [29] [239]\n",
      "09_0057.npy , #frames = 361 , any(abnormal) = True , [143] [226]\n",
      "10_0037.npy , #frames = 433 , any(abnormal) = True , [123 276] [274 432]\n",
      "10_0038.npy , #frames = 241 , any(abnormal) = True , [  0 198] [196 227]\n",
      "10_0042.npy , #frames = 433 , any(abnormal) = True , [0] [363]\n",
      "10_0074.npy , #frames = 601 , any(abnormal) = True , [47] [585]\n",
      "10_0075.npy , #frames = 505 , any(abnormal) = True , [184 324 332] [203 330 404]\n",
      "11_0176.npy , #frames = 337 , any(abnormal) = True , [127 187] [175 278]\n",
      "12_0142.npy , #frames = 601 , any(abnormal) = True , [ 74 150 560] [142 558 600]\n",
      "12_0143.npy , #frames = 265 , any(abnormal) = True , [ 63 245] [238 245]\n",
      "12_0148.npy , #frames = 313 , any(abnormal) = True , [ 81  95 226 247 271 279] [ 93 224 234 259 274 286]\n",
      "12_0149.npy , #frames = 241 , any(abnormal) = True , [101] [230]\n",
      "12_0151.npy , #frames = 289 , any(abnormal) = True , [ 0 24] [  1 234]\n",
      "12_0152.npy , #frames = 361 , any(abnormal) = True , [ 49 203 257 266 276 290 306 342] [201 255 264 274 288 304 340 360]\n",
      "12_0154.npy , #frames = 385 , any(abnormal) = True , [89] [384]\n",
      "12_0173.npy , #frames = 217 , any(abnormal) = True , [51 64] [ 62 167]\n",
      "12_0174.npy , #frames = 337 , any(abnormal) = True , [93] [336]\n",
      "12_0175.npy , #frames = 265 , any(abnormal) = True , [102 233] [226 264]\n"
     ]
    }
   ],
   "source": [
    "for full_fname in full_filenames:\n",
    "    a = np.load(full_fname)\n",
    "    _, runs_starts, run_ends = runs_of_ones_array(a)\n",
    "    print(os.path.basename(full_fname), ', #frames =', len(a), ', any(abnormal) =', any(a==1), ',', runs_starts, run_ends-1)"
   ]
  },
  {
   "cell_type": "markdown",
   "metadata": {},
   "source": [
    "### Same as above, but using metadata_arr which is more correct."
   ]
  },
  {
   "cell_type": "code",
   "execution_count": 45,
   "metadata": {},
   "outputs": [
    {
     "name": "stdout",
     "output_type": "stream",
     "text": [
      "01_0014.npy , #frames = 265 , any(abnormal) = True , [154] [229]\n",
      "01_0015.npy , #frames = 433 , any(abnormal) = True , [86] [373]\n"
     ]
    }
   ],
   "source": [
    "num_frames = np.zeros(len(metadata_arr), dtype=int)\n",
    "i = 0\n",
    "for scene_id, video_id in metadata_arr:\n",
    "    # print(scene_id, video_id)\n",
    "    # print(f'{scene_id:02}_{video_id:04}.npy')\n",
    "    \n",
    "    filename = f'{scene_id:02}_{video_id:04}.npy'\n",
    "    full_fname = os.path.join(testing_dir, 'test_frame_mask_orig', filename)\n",
    "    gt = np.load(full_fname)\n",
    "    _, runs_starts, run_ends = runs_of_ones_array(gt)\n",
    "    # print(os.path.basename(full_fname), ', #frames =', len(gt), ', any(abnormal) =', any(gt==1), ',', runs_starts, run_ends-1)    \n",
    "    print(filename, ', #frames =', len(gt), ', any(abnormal) =', any(gt==1), ',', runs_starts, run_ends-1)    \n",
    "        \n",
    "    num_frames[i] = len(gt)\n",
    "    i += 1"
   ]
  },
  {
   "cell_type": "code",
   "execution_count": 46,
   "metadata": {},
   "outputs": [
    {
     "name": "stdout",
     "output_type": "stream",
     "text": [
      "[265 433]\n"
     ]
    }
   ],
   "source": [
    "print(num_frames)"
   ]
  },
  {
   "cell_type": "code",
   "execution_count": 47,
   "metadata": {},
   "outputs": [
    {
     "name": "stdout",
     "output_type": "stream",
     "text": [
      "[  0 265]\n",
      "[265 698]\n"
     ]
    }
   ],
   "source": [
    "def start_end_frames(num_frames):\n",
    "    end_frames = np.cumsum(num_frames)\n",
    "    start_frames = end_frames[:-1]\n",
    "    start_frames = np.insert(start_frames, 0, 0)    \n",
    "    return start_frames, end_frames\n",
    "\n",
    "start_frames, end_frames = start_end_frames(num_frames)\n",
    "print(start_frames)\n",
    "print(end_frames)"
   ]
  },
  {
   "cell_type": "code",
   "execution_count": 48,
   "metadata": {},
   "outputs": [
    {
     "name": "stdout",
     "output_type": "stream",
     "text": [
      "[0 0 0 0 0 0 0 0 0 0 0 0 0 0 0 0 0 0 0 0 0 0 0 0 0 0 0 0 0 0 0 0 0 0 0 0 0\n",
      " 0 0 0 0 0 0 0 0 0 0 0 0 0 0 0 0 0 0 0 0 0 0 0 0 0 0 0 0 0 0 0 0 0 0 0 0 0\n",
      " 0 0 0 0 0 0 0 0 0 0 0 0 0 0 0 0 0 0 0 0 0 0 0 0 0 0 0 0 0 0 0 0 0 0 0 0 0\n",
      " 0 0 0 0 0 0 0 0 0 0 0 0 0 0 0 0 0 0 0 0 0 0 0 0 0 0 0 0 0 0 0 0 0 0 0 0 0\n",
      " 0 0 0 0 0 0 1 1 1 1 1 1 1 1 1 1 1 1 1 1 1 1 1 1 1 1 1 1 1 1 1 1 1 1 1 1 1\n",
      " 1 1 1 1 1 1 1 1 1 1 1 1 1 1 1 1 1 1 1 1 1 1 1 1 1 1 1 1 1 1 1 1 1 1 1 1 1\n",
      " 1 1 1 1 1 1 1 1 0 0 0 0 0 0 0 0 0 0 0 0 0 0 0 0 0 0 0 0 0 0 0 0 0 0 0 0 0\n",
      " 0 0 0 0 0 0]\n",
      "[0 0 0 0 0 0 0 0 0 0 0 0 0 0 0 0 0 0 0 0 0 0 0 0 0 0 0 0 0 0 0 0 0 0 0 0 0\n",
      " 0 0 0 0 0 0 0 0 0 0 0 0 0 0 0 0 0 0 0 0 0 0 0 0 0 0 0 0 0 0 0 0 0 0 0 0 0\n",
      " 0 0 0 0 0 0 0 0 0 0 0 0 1 1 1 1 1 1 1 1 1 1 1 1 1 1 1 1 1 1 1 1 1 1 1 1 1\n",
      " 1 1 1 1 1 1 1 1 1 1 1 1 1 1 1 1 1 1 1 1 1 1 1 1 1 1 1 1 1 1 1 1 1 1 1 1 1\n",
      " 1 1 1 1 1 1 1 1 1 1 1 1 1 1 1 1 1 1 1 1 1 1 1 1 1 1 1 1 1 1 1 1 1 1 1 1 1\n",
      " 1 1 1 1 1 1 1 1 1 1 1 1 1 1 1 1 1 1 1 1 1 1 1 1 1 1 1 1 1 1 1 1 1 1 1 1 1\n",
      " 1 1 1 1 1 1 1 1 1 1 1 1 1 1 1 1 1 1 1 1 1 1 1 1 1 1 1 1 1 1 1 1 1 1 1 1 1\n",
      " 1 1 1 1 1 1 1 1 1 1 1 1 1 1 1 1 1 1 1 1 1 1 1 1 1 1 1 1 1 1 1 1 1 1 1 1 1\n",
      " 1 1 1 1 1 1 1 1 1 1 1 1 1 1 1 1 1 1 1 1 1 1 1 1 1 1 1 1 1 1 1 1 1 1 1 1 1\n",
      " 1 1 1 1 1 1 1 1 1 1 1 1 1 1 1 1 1 1 1 1 1 1 1 1 1 1 1 1 1 1 1 1 1 1 1 1 1\n",
      " 1 1 1 1 0 0 0 0 0 0 0 0 0 0 0 0 0 0 0 0 0 0 0 0 0 0 0 0 0 0 0 0 0 0 0 0 0\n",
      " 0 0 0 0 0 0 0 0 0 0 0 0 0 0 0 0 0 0 0 0 0 0 0 0 0 0]\n"
     ]
    }
   ],
   "source": [
    "for i in range(len(start_frames)):\n",
    "    print(gt_np[start_frames[i]:end_frames[i]])"
   ]
  },
  {
   "cell_type": "code",
   "execution_count": 49,
   "metadata": {},
   "outputs": [
    {
     "name": "stdout",
     "output_type": "stream",
     "text": [
      "[48.01218101 48.01264934 46.89920653 48.01272308 45.77678975 45.1118231\n",
      " 48.01252643 48.01239414 48.00523161 47.43119686 45.22984437 45.2282598\n",
      " 45.22865192 45.23025123 45.23013518 45.22909986 46.67277366 45.11121321\n",
      " 45.11127537 45.1831842  45.13503185 45.11113381 45.11115024 45.11114735\n",
      " 45.11121491 45.11119297 45.111076   45.15191065 45.1111225  45.22920719\n",
      " 45.11114403 45.11107961 45.11112895 45.11125397 45.11115348 45.11120207\n",
      " 48.01274598 48.01250586 48.01241816 48.01235437 48.00875203 41.36370323\n",
      " 44.76991815 41.3637226  41.36374533 41.36373215 45.20730132 45.22769575\n",
      " 45.22770394 45.22922634 48.0122188  48.01231187 48.01264631 40.18953274\n",
      " 48.01229459 48.01221213 48.01220392 48.0122192  48.01219914 48.01227349\n",
      " 48.01226991 48.01229529 48.01223538 48.01220834 48.01226171 48.01223995\n",
      " 48.01223803 48.01230973 48.01225111 48.01229747 45.78546591 45.22876845\n",
      " 45.45641249 45.21575273 47.45592243 48.01221934 48.01226153 46.89965802\n",
      " 45.22877195 45.22993484 44.35651644 45.11265841 45.11161268 45.11127929\n",
      " 45.1112639  45.691817   45.35329615 41.36368524 41.3636704  41.36363012\n",
      " 41.36371331 45.11349871 48.01238164 40.18916262 45.22786701 45.22815882\n",
      " 45.22820658 45.22790741 45.22781393 45.22798151 45.22819047 45.2280616\n",
      " 45.22796268 45.22805883 45.22800124 45.22786294 45.22777484 45.22813624\n",
      " 45.22792552 45.67933236 47.43272801 48.01223109 45.22793648 45.22778329\n",
      " 45.22779144 45.22817557 45.11216267 45.11119401 45.11128609 45.11133141\n",
      " 45.11152134 45.11155425 45.1114748  48.01222062 48.0122786  48.01231229\n",
      " 45.99695708 48.01243427 48.01223035 48.01219489 48.01238757 48.01305814\n",
      " 48.01382749 48.01225569 48.01225123 48.01223216 48.01222392 48.01222266\n",
      " 48.0122438  48.01221749 48.01219637 48.01220982 48.01298298 46.34258554\n",
      " 45.22846947 46.34276717 48.0130265  48.01270515 48.01223192 48.01222492\n",
      " 44.50228178 45.22861279 45.22872706 45.2293385  45.22944885 45.11160576\n",
      " 45.22788948 45.1112308  45.11150693 48.01310683 48.01249148 48.01240717\n",
      " 48.01233295 48.01292009 45.11331993 48.01225902 48.0123629  45.22871399\n",
      " 47.31170036 45.22857916 45.23034266 48.01345808 48.01356405 48.01255163\n",
      " 48.01302034 45.22787754 45.22789463 45.22852174 45.22786033 45.22779625\n",
      " 45.22791923 45.22803882 45.22842658 45.22776143 45.22778567 45.22793477\n",
      " 45.22789811 45.22775567 45.22769502 45.18198673 45.11113068 45.22831461\n",
      " 45.11120348 45.11122327 45.11126398 45.11136969 45.18127187 45.22775115\n",
      " 45.22785386 48.01238333 48.0122489  48.01219614 48.01222291 48.01244951\n",
      " 48.01273856 48.01302242 46.89939679 45.22895474 45.22850891 45.22857575\n",
      " 45.22771014 45.22981109 45.22768545 45.22775223 45.22895438 44.5020179\n",
      " 45.22884239 45.2277451  46.89888602 47.43258403 45.11287812 44.50196409\n",
      " 45.22919012 47.45589326 48.01225277 48.01285049 48.01053142 45.22932234\n",
      " 45.11112691 48.01225303 48.01222898 48.01220965 48.01221285 48.01225395\n",
      " 48.01234707 46.34175577 45.22767577 45.22774088 45.22807669 45.22811639\n",
      " 45.2276893  45.22767466 45.2276535  45.2277662  45.11114111 45.11118431\n",
      " 45.22847909 45.22778069 47.4557928  46.2727838  45.11271773 45.11116166\n",
      " 45.22834683  0.          0.          0.          0.          0.\n",
      "  0.          0.          0.          0.          0.          0.\n",
      "  0.        ]\n",
      "[40.18909174 40.18903713 40.18901505 45.22767207 45.2276975  40.18905195\n",
      " 40.18911046 40.18913925 45.22778405 40.18905307 40.18913385 41.21899871\n",
      " 42.69360865 40.18950269 40.65892321 42.6289112  45.11108473 45.11108939\n",
      " 45.11110033 48.01281691 47.42433224 45.22806404 45.22776229 45.2278138\n",
      " 45.2277893  45.22777389 45.22783963 45.22791501 45.22794464 45.22776032\n",
      " 45.22770568 45.22771115 45.22789238 45.22775681 45.22776963 45.22795648\n",
      " 45.22784414 45.22782934 45.22806383 45.2285747  45.22851571 45.22789307\n",
      " 45.1112582  45.22889768 45.2279275  45.2289672  45.11119073 45.23064525\n",
      " 45.23064415 45.22921585 45.11113    45.13452991 48.00885569 47.97827666\n",
      " 44.75335435 45.23011567 45.22983139 45.228662   48.01255901 48.01248798\n",
      " 48.01279489 47.45572069 45.22949286 45.22834203 45.22894091 45.23008316\n",
      " 45.22953655 45.22838167 43.91104633 43.86881674 40.18909253 40.18922109\n",
      " 39.61013422 45.23063606 37.65657352 40.18937934 40.18924082 45.11145502\n",
      " 40.18932026 45.22988448 45.22984578 45.22805662 48.01242807 48.01239831\n",
      " 48.01234783 48.01250645 47.31138463 46.78783459 48.01172431 48.01251096\n",
      " 48.01243129 48.01244063 45.22987423 45.22871719 44.64831441 45.22852871\n",
      " 45.94409349 45.22999484 45.22821983 45.22793554 45.22800059 45.22883574\n",
      " 46.89940169 44.79317703 45.22800079 44.93825964 44.50214431 44.50195352\n",
      " 44.7935717  45.08454703 44.50225276 44.50194831 44.50203888 45.08464662\n",
      " 44.61438467 44.50229342 44.50210246 44.50220916 44.94066779 44.50220747\n",
      " 44.5021425  44.50199031 44.50197804 44.50204994 44.50190175 44.50216021\n",
      " 44.50195778 44.50192971 44.50194477 44.50200358 44.50219658 44.50203796\n",
      " 44.50193269 44.50184576 44.50186227 44.50191155 41.99169878 41.36368244\n",
      " 41.3636934  40.89395725 40.18943706 45.27853495 48.01238595 48.0122525\n",
      " 48.01220569 48.01221169 48.0122157  48.01232821 46.89883847 45.22771188\n",
      " 45.22771826 45.22774336 45.22770146 45.22766784 45.22771016 45.22770253\n",
      " 45.22773057 45.22805628 45.2300361  45.22800793 45.22769471 46.34216886\n",
      " 48.01227751 45.69331179 45.20003073 45.22860081 46.8990648  48.01226377\n",
      " 47.43246826 45.11113006 45.22823774 45.18276437 45.11126495 45.11122878\n",
      " 45.11121986 45.1111488  45.11112682 45.11119943 45.11124668 45.1111814\n",
      " 45.18166291 45.22846031 45.23067107 45.11112739 45.11113036 45.11177996\n",
      " 45.1343741  45.111142   45.11121724 45.11120069 45.11112787 45.1111714\n",
      " 45.11115168 45.111119   45.11113799 45.11191565 45.11168411 45.11107427\n",
      " 45.11112664 45.11128855 45.11124459 45.11167074 44.50272223 48.01236696\n",
      " 48.01222645 47.18926224 44.5018994  44.50185318 44.50183849 45.11198986\n",
      " 44.50191593 43.2468405  41.36369215 41.36377644 44.50398284 45.11134853\n",
      " 48.01223221 48.01299335 48.01226996 48.01222485 48.01219559 48.01224424\n",
      " 48.01229479 48.0123858  48.01345517 48.01230175 48.01235475 48.01229691\n",
      " 48.01228737 48.01222926 48.01222461 48.01224632 48.01224025 48.01233433\n",
      " 48.01230323 48.01229324 46.89888467 48.01248807 46.26697681 45.22808317\n",
      " 46.34236036 48.01224603 48.01230623 47.99683692 45.68502228 45.22824503\n",
      " 45.22871974 45.229478   45.23024331 45.11127654 45.2287284  45.1112792\n",
      " 46.85023281 45.11123083 45.11122594 45.11208278 45.22846191 45.15846525\n",
      " 48.01232119 47.45615423 45.22793407 45.22780757 45.22784942 45.22782107\n",
      " 45.2278315  45.22780121 45.22795129 45.22798642 45.22772682 45.22768464\n",
      " 45.22770267 45.22775178 45.227731   45.22783127 47.30750136 48.01225859\n",
      " 48.01221751 48.01222947 48.0122558  48.01227726 48.01223848 45.22783721\n",
      " 45.22770419 45.22769629 45.22765803 45.22768608 45.22766159 45.22767823\n",
      " 45.22769134 45.22788737 45.18305289 45.14967167 48.01229626 48.01240365\n",
      " 48.01258561 46.89529536 48.01225039 48.01220984 48.01220376 48.01230908\n",
      " 48.0121918  48.01230589 48.01225197 48.01228279 48.01221836 48.01218993\n",
      " 48.0122539  48.01222003 48.01223802 48.01230507 48.01225415 48.01259202\n",
      " 45.22835225 45.2282441  45.22873751 45.22891154 48.01242618 48.01220439\n",
      " 48.01228932 46.34257554 45.2284017  45.22945595 45.1111538  45.1112191\n",
      " 45.11139216 45.11131465 45.11139327 45.69240364 43.62045948 45.11109136\n",
      " 41.36367176 41.36361672 41.36385087 46.44571101 48.0125308  46.34260242\n",
      " 45.22783795 45.22798687 45.22793356 45.22784336 45.2277762  45.22792672\n",
      " 45.22812549 45.22792112 45.22783221 45.22791675 45.22789351 45.22781297\n",
      " 45.22777114 45.22812706 45.22781601 45.22769721 45.22778606 45.22798267\n",
      " 45.22784752 48.01285534 45.22773844 45.22857433 45.11124289 45.11116975\n",
      " 45.11124676 45.11133389 45.1113795  45.11140904 45.11148266 42.68955091\n",
      " 48.01237892 48.01221826 11.86940163 45.22961888 47.45453765 48.0122647\n",
      " 48.01224177 48.0122602  48.01224403 48.01227532 48.01232866 48.01232323\n",
      " 48.01230752 48.01226188 48.01224919 48.01226216 48.01223785 48.01247322\n",
      " 48.0126649  48.01242949 45.87210942 45.22799556 45.22846666 45.2288831\n",
      " 45.22868319 48.01243157 48.0122623  46.83086778 45.22922008 45.22991963\n",
      " 38.99197658 37.6594233  37.66200047 37.65779773 37.65635642 37.65602299\n",
      "  0.          0.          0.          0.          0.          0.\n",
      "  0.          0.          0.          0.          0.          0.\n",
      "  0.          0.          0.          0.          0.          0.\n",
      "  0.          0.          0.          0.          0.          0.\n",
      "  0.          0.          0.          0.          0.          0.\n",
      "  0.        ]\n"
     ]
    }
   ],
   "source": [
    "for i in range(len(start_frames)):\n",
    "    print(scores_np[start_frames[i]:end_frames[i]])"
   ]
  },
  {
   "cell_type": "code",
   "execution_count": 52,
   "metadata": {},
   "outputs": [
    {
     "data": {
      "image/png": "[encoded data removed]",
      "text/plain": [
       "<Figure size 432x288 with 1 Axes>"
      ]
     },
     "metadata": {
      "needs_background": "light"
     },
     "output_type": "display_data"
    },
    {
     "name": "stdout",
     "output_type": "stream",
     "text": [
      "0.8664021164021165\n"
     ]
    },
    {
     "data": {
      "image/png": "[encoded data removed]",
      "text/plain": [
       "<Figure size 432x288 with 1 Axes>"
      ]
     },
     "metadata": {
      "needs_background": "light"
     },
     "output_type": "display_data"
    },
    {
     "name": "stdout",
     "output_type": "stream",
     "text": [
      "0.9855603448275861\n"
     ]
    }
   ],
   "source": [
    "auc_list = np.zeros(len(start_frames))\n",
    "for i in range(len(start_frames)):\n",
    "    \n",
    "    scene_id, video_id = metadata_arr[i]\n",
    "    filename = f'{scene_id:02}_{video_id:04}'\n",
    "    \n",
    "    # plot raw score\n",
    "    clip_score = scores_np[start_frames[i]:end_frames[i]]    \n",
    "    plt.plot(np.arange(len(clip_score)), clip_score, label='Raw Score')\n",
    "    \n",
    "    # set ground truth\n",
    "    clip_gt = gt_np[start_frames[i]:end_frames[i]]\n",
    "    \n",
    "    # plot smoothed score\n",
    "    # print(len(clip_score), len(clip_gt))\n",
    "    auc, shift, sigma, scores_smoothed = my_score_align(clip_score, clip_gt)\n",
    "    auc_list[i] = auc\n",
    "    \n",
    "    plt.plot(np.arange(len(scores_smoothed)), scores_smoothed, 'g', label='Smoothed Score')\n",
    "    \n",
    "    # plot ground truth    \n",
    "    _, runs_starts, run_ends = runs_of_ones_array(clip_gt)\n",
    "    for j in range(len(runs_starts)):\n",
    "        if j == 0:\n",
    "            plt.plot([runs_starts[j], run_ends[j]], [25, 25], 'r', label='GT')\n",
    "        else:\n",
    "            plt.plot([runs_starts[j], run_ends[j]], [25, 25], 'r')\n",
    "        \n",
    "    plt.legend(loc = 'lower center')\n",
    "    \n",
    "    plt.xlabel('Frame Index')\n",
    "    plt.ylabel('DPMM Score')\n",
    "    plt.title(filename)\n",
    "    # plt.savefig(filename + '.png')\n",
    "    plt.show()\n",
    "    \n",
    "    print(auc)"
   ]
  },
  {
   "cell_type": "code",
   "execution_count": 26,
   "metadata": {},
   "outputs": [
    {
     "data": {
      "text/plain": [
       "array([0.96449457, 0.98045977, 0.80201912, 0.45624376, 0.67140693,\n",
       "       0.56607503, 0.49125318, 0.97969027, 0.99301435, 0.71363156,\n",
       "       0.90014498, 0.51192256, 0.84145316, 1.        , 0.79155856,\n",
       "       0.88570769, 1.        , 0.8975469 , 0.77377487, 0.59404881,\n",
       "       0.58015936, 0.7270189 , 0.65168539, 0.40740741, 0.71536617,\n",
       "       0.86178451, 0.73953509, 0.97176166, 0.77272727, 0.99045988,\n",
       "       0.65429415, 0.64044944, 0.69655172, 0.99634888, 0.57700348,\n",
       "       0.58119658, 0.89439828, 0.86641791, 0.83713956, 0.31563461,\n",
       "       0.65861906, 0.95499078, 0.58262243, 0.63970865, 0.97026783,\n",
       "       0.94668565, 0.50230314, 0.58858004, 0.91516996, 0.95705913,\n",
       "       0.75499114, 0.        , 0.87139618, 0.63573005, 0.75135179,\n",
       "       0.89445699, 0.84877193, 0.4354874 , 0.9458589 , 0.97596965,\n",
       "       0.99958597, 0.50471353, 0.67482307, 0.19127517, 0.59335219,\n",
       "       0.4539627 , 0.74296853, 0.99106093, 0.75675676, 0.87949951,\n",
       "       0.99734959, 0.93758177, 0.67789048, 0.57419752, 0.51082251,\n",
       "       0.95780856, 1.        , 0.71632546, 0.83519941, 0.51082251,\n",
       "       0.84126369, 0.31808148, 0.82667628, 0.62948526, 0.51470985,\n",
       "       0.74084612, 0.59890032, 0.94120998, 0.34586466, 0.32223727,\n",
       "       0.78906653, 0.99603299, 0.0094399 , 0.46540054, 0.92495063,\n",
       "       0.34874074, 0.81209292, 0.91280135, 0.93297381, 0.8595879 ,\n",
       "       0.90990991, 0.68340746, 0.94836066, 0.71405254, 0.51382724,\n",
       "       0.49594571, 0.96762208])"
      ]
     },
     "execution_count": 26,
     "metadata": {},
     "output_type": "execute_result"
    }
   ],
   "source": [
    "auc_list"
   ]
  },
  {
   "cell_type": "code",
   "execution_count": 31,
   "metadata": {},
   "outputs": [
    {
     "data": {
      "image/png": "[encoded data removed]",
      "text/plain": [
       "<Figure size 432x288 with 1 Axes>"
      ]
     },
     "metadata": {
      "needs_background": "light"
     },
     "output_type": "display_data"
    },
    {
     "name": "stdout",
     "output_type": "stream",
     "text": [
      "0.7908367600902692\n"
     ]
    }
   ],
   "source": [
    "# for i in range(len(start_frames)):\n",
    "i = 21\n",
    "num_videos = 20\n",
    "    \n",
    "# scene_id, video_id = metadata_arr[i]\n",
    "# filename = f'{scene_id:02}_{video_id:04}'\n",
    "\n",
    "# plot raw score\n",
    "clip_score = scores_np[start_frames[i]:end_frames[i+num_videos]]    \n",
    "plt.plot(np.arange(len(clip_score)), clip_score, label='Raw Score')\n",
    "\n",
    "# set ground truth\n",
    "clip_gt = gt_np[start_frames[i]:end_frames[i+num_videos]]\n",
    "\n",
    "# plot smoothed score\n",
    "# print(len(clip_score), len(clip_gt))\n",
    "auc, shift, sigma, scores_smoothed = my_score_align(clip_score, clip_gt)\n",
    "# auc_list[i] = auc\n",
    "\n",
    "plt.plot(np.arange(len(scores_smoothed)), scores_smoothed, 'g', label='Smoothed Score')\n",
    "\n",
    "# plot ground truth    \n",
    "_, runs_starts, run_ends = runs_of_ones_array(clip_gt)\n",
    "for j in range(len(runs_starts)):\n",
    "    if j == 0:\n",
    "        plt.plot([runs_starts[j], run_ends[j]], [25, 25], 'r', label='GT')\n",
    "    else:\n",
    "        plt.plot([runs_starts[j], run_ends[j]], [25, 25], 'r')\n",
    "\n",
    "plt.legend(loc = 'lower center')\n",
    "\n",
    "plt.xlabel('Frame Index')\n",
    "plt.ylabel('DPMM Score')\n",
    "# plt.title(filename)\n",
    "# plt.savefig(filename + '.png')\n",
    "plt.show()\n",
    "\n",
    "print(auc)"
   ]
  },
  {
   "cell_type": "code",
   "execution_count": 20,
   "metadata": {},
   "outputs": [
    {
     "data": {
      "image/png": "[encoded data removed]",
      "text/plain": [
       "<Figure size 432x288 with 1 Axes>"
      ]
     },
     "metadata": {
      "needs_background": "light"
     },
     "output_type": "display_data"
    }
   ],
   "source": [
    "from sklearn import metrics\n",
    "fpr, tpr, thresholds = metrics.roc_curve(gt_np,  scores_np)\n",
    "\n",
    "auc, shift, sigma = score_align(scores_np, gt_np)\n",
    "\n",
    "#create ROC curve\n",
    "# plt.plot(fpr,tpr,label=\"AUC=\"+str(auc))  f\"The number is {num:.2f}\"\n",
    "plt.plot(fpr, tpr, label = f\"AUC = {auc:.3f}\")\n",
    "plt.plot([0,1],[0, 1], 'r')\n",
    "plt.axis('square')\n",
    "plt.ylabel('True Positive Rate')\n",
    "plt.xlabel('False Positive Rate')\n",
    "plt.legend(loc=4)\n",
    "plt.title('ROC Curve')\n",
    "# plt.savefig('ROC.png')\n",
    "plt.show()"
   ]
  },
  {
   "cell_type": "code",
   "execution_count": null,
   "metadata": {},
   "outputs": [],
   "source": []
  }
 ],
 "metadata": {
  "kernelspec": {
   "display_name": "Python 3",
   "language": "python",
   "name": "python3"
  },
  "language_info": {
   "codemirror_mode": {
    "name": "ipython",
    "version": 3
   },
   "file_extension": ".py",
   "mimetype": "text/x-python",
   "name": "python",
   "nbconvert_exporter": "python",
   "pygments_lexer": "ipython3",
   "version": "3.6.9"
  }
 },
 "nbformat": 4,
 "nbformat_minor": 4
}
